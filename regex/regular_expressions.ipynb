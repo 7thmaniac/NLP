{
 "cells": [
  {
   "cell_type": "code",
   "execution_count": 13,
   "id": "af1f32df-7415-4227-8f06-bc34295bdfeb",
   "metadata": {},
   "outputs": [],
   "source": [
    "import re"
   ]
  },
  {
   "cell_type": "code",
   "execution_count": 14,
   "id": "a9e4f475-2845-419b-ab0d-6f6fc839089b",
   "metadata": {},
   "outputs": [],
   "source": [
    "chat1 = 'codebasics: you ask lot of questions 😠  1235678912, abc@xyz.com'\n",
    "chat2 = 'codebasics: here it is: (123)-567-8912, abc@xyz.com'\n",
    "chat3 = 'codebasics: yes, phone: 1235678912 email: abc@xyz.com'"
   ]
  },
  {
   "cell_type": "code",
   "execution_count": 15,
   "id": "e603bba8-b84e-427a-b4b8-c99fba1058e1",
   "metadata": {},
   "outputs": [
    {
     "data": {
      "text/plain": [
       "['1235678912']"
      ]
     },
     "execution_count": 15,
     "metadata": {},
     "output_type": "execute_result"
    }
   ],
   "source": [
    "pattern = r\"\\d{10}\"\n",
    "re.findall(pattern , chat3)"
   ]
  },
  {
   "cell_type": "code",
   "execution_count": 16,
   "id": "ffc17554-efed-4413-80a4-d1adcff22280",
   "metadata": {},
   "outputs": [
    {
     "data": {
      "text/plain": [
       "['(123)-567-8912']"
      ]
     },
     "execution_count": 16,
     "metadata": {},
     "output_type": "execute_result"
    }
   ],
   "source": [
    "pattern = r\"\\d{10}|\\(\\d{3}\\)-\\d{3}-\\d{4}\"\n",
    "re.findall(pattern , chat2)"
   ]
  },
  {
   "cell_type": "code",
   "execution_count": 17,
   "id": "16282acc-9ea6-489b-a420-3be28a751835",
   "metadata": {},
   "outputs": [
    {
     "data": {
      "text/plain": [
       "['abc@xyz.com']"
      ]
     },
     "execution_count": 17,
     "metadata": {},
     "output_type": "execute_result"
    }
   ],
   "source": [
    "pattern = r\"[0-9a-zA-Z_]*@[0-9a-zA-Z]*\\.[a-zA-z]*\"\n",
    "re.findall(pattern, chat1)"
   ]
  },
  {
   "cell_type": "code",
   "execution_count": 18,
   "id": "4dfeb2f1-2f69-4b8d-b8f9-1a9fe9624683",
   "metadata": {},
   "outputs": [],
   "source": [
    "chat1='codebasics: Hello, I am having an issue with my order # 412889912'\n",
    "chat2='codebasics: I have a problem with my order number 412889912'\n",
    "chat3='codebasics: My order 412889912 is having an issue, I was charged 300$ when online it says 280$'"
   ]
  },
  {
   "cell_type": "code",
   "execution_count": 19,
   "id": "0a1a74fc-4825-4591-88ef-a58406bbd7df",
   "metadata": {},
   "outputs": [
    {
     "data": {
      "text/plain": [
       "['412889912', '412889912', '412889912']"
      ]
     },
     "execution_count": 19,
     "metadata": {},
     "output_type": "execute_result"
    }
   ],
   "source": [
    "chat = chat1 + chat2 + chat3\n",
    "pattern = r\"order[^\\d]*(\\d*)\"\n",
    "re.findall(pattern, chat)"
   ]
  },
  {
   "cell_type": "code",
   "execution_count": 20,
   "id": "0e46f057-997f-4503-8745-17a32222c345",
   "metadata": {},
   "outputs": [],
   "source": [
    "text = \"\"\"Musk in 2022\n",
    "Born\tElon Reeve Musk\n",
    "June 28, 1971 (age 53)\n",
    "Pretoria, Transvaal, South Africa\n",
    "Citizenship\t\n",
    "South Africa\n",
    "Canada\n",
    "United States\n",
    "Education\tUniversity of Pennsylvania (BA, BS)\n",
    "Title\t\n",
    "Founder, CEO, and chief engineer of SpaceX\n",
    "CEO and product architect of Tesla, Inc.\n",
    "Owner, CTO and Executive Chairman of X (formerly Twitter)\n",
    "President of the Musk Foundation\n",
    "Founder of The Boring Company, X Corp., and xAI\n",
    "Co-founder of Neuralink, OpenAI, Zip2, and X.com (part of PayPal)\n",
    "Spouses\t\n",
    "Justine Wilson\n",
    "​\n",
    "​(m. 2000; div. 2008)​\n",
    "Talulah Riley\n",
    "​\n",
    "​(m. 2010; div. 2012)​\n",
    "​\n",
    "​(m. 2013; div. 2016)​\n",
    "Partners\t\n",
    "Grimes (2018–2021)[1]\n",
    "Children\t12[a][3]\n",
    "Parents\t\n",
    "Errol Musk\n",
    "Maye Musk\n",
    "Relatives\t\n",
    "Kimbal Musk (brother)\n",
    "Tosca Musk (sister)\n",
    "Lyndon Rive (cousin)\n",
    "Signature\n",
    "\"\"\""
   ]
  },
  {
   "cell_type": "code",
   "execution_count": 25,
   "id": "2db24e1b-cc6d-4a10-9f49-e660f1925b3e",
   "metadata": {},
   "outputs": [
    {
     "data": {
      "text/plain": [
       "'53'"
      ]
     },
     "execution_count": 25,
     "metadata": {},
     "output_type": "execute_result"
    }
   ],
   "source": [
    "pattern = r\"age.(\\d+)\"\n",
    "re.findall(pattern, text)[0]"
   ]
  },
  {
   "cell_type": "code",
   "execution_count": 27,
   "id": "eb1f713d-b836-480e-9848-8026c44c664b",
   "metadata": {},
   "outputs": [
    {
     "data": {
      "text/plain": [
       "'Elon Reeve Musk'"
      ]
     },
     "execution_count": 27,
     "metadata": {},
     "output_type": "execute_result"
    }
   ],
   "source": [
    "pattern = r\"Born(.*)\"\n",
    "re.findall(pattern, text)[0].strip()"
   ]
  },
  {
   "cell_type": "code",
   "execution_count": 29,
   "id": "27f5bc6b-fe50-4ae8-a1a6-3a54eeb5a083",
   "metadata": {},
   "outputs": [
    {
     "data": {
      "text/plain": [
       "'June 28, 1971'"
      ]
     },
     "execution_count": 29,
     "metadata": {},
     "output_type": "execute_result"
    }
   ],
   "source": [
    "pattern = r\"(.*)\\(age\"\n",
    "re.findall(pattern, text)[0].strip()"
   ]
  },
  {
   "cell_type": "code",
   "execution_count": 30,
   "id": "71801ca2-da11-4307-b0ec-1f3da37a13d4",
   "metadata": {},
   "outputs": [
    {
     "data": {
      "text/plain": [
       "'Pretoria, Transvaal, South Africa'"
      ]
     },
     "execution_count": 30,
     "metadata": {},
     "output_type": "execute_result"
    }
   ],
   "source": [
    "pattern = r\"\\(age.*\\n(.*)\"\n",
    "re.findall(pattern, text)[0].strip()"
   ]
  },
  {
   "cell_type": "code",
   "execution_count": 31,
   "id": "34e11086-cee1-431b-b52a-dab5ffb793a2",
   "metadata": {},
   "outputs": [],
   "source": [
    "def get_pattern_match(pattern,text):\n",
    "    matches = re.findall(pattern, text)\n",
    "    if matches:\n",
    "        return matches[0]\n",
    "    "
   ]
  },
  {
   "cell_type": "code",
   "execution_count": 37,
   "id": "00c9246e-8b5c-4b10-bf99-28af9a00642b",
   "metadata": {},
   "outputs": [],
   "source": [
    "def get_personal_information(text):\n",
    "    age = get_pattern_match(r\"age.(\\d+)\", text)\n",
    "    name = get_pattern_match(r\"Born(.*)\", text).strip()\n",
    "    date_of_birth = get_pattern_match(r\"(.*)\\(age\", text).strip()\n",
    "    birth_place = get_pattern_match(r\"\\(age.*\\n(.*)\", text).strip()\n",
    "    return {\n",
    "        \"name\": name,\n",
    "        \"age\": age,\n",
    "        \"date_of_birth\": date_of_birth,\n",
    "        \"birth_place\" : birth_place,\n",
    "    }"
   ]
  },
  {
   "cell_type": "code",
   "execution_count": 38,
   "id": "97f619e8-9d09-4cea-8e61-03ff0542eb2b",
   "metadata": {},
   "outputs": [
    {
     "data": {
      "text/plain": [
       "{'name': 'Elon Reeve Musk',\n",
       " 'age': '53',\n",
       " 'date_of_birth': 'June 28, 1971',\n",
       " 'birth_place': 'Pretoria, Transvaal, South Africa'}"
      ]
     },
     "execution_count": 38,
     "metadata": {},
     "output_type": "execute_result"
    }
   ],
   "source": [
    "get_personal_information(text)"
   ]
  },
  {
   "cell_type": "code",
   "execution_count": null,
   "id": "2ea0873b-c7bc-47d1-94d1-a0c3a25fa3c8",
   "metadata": {},
   "outputs": [],
   "source": []
  }
 ],
 "metadata": {
  "kernelspec": {
   "display_name": "Python 3 (ipykernel)",
   "language": "python",
   "name": "python3"
  },
  "language_info": {
   "codemirror_mode": {
    "name": "ipython",
    "version": 3
   },
   "file_extension": ".py",
   "mimetype": "text/x-python",
   "name": "python",
   "nbconvert_exporter": "python",
   "pygments_lexer": "ipython3",
   "version": "3.12.0"
  }
 },
 "nbformat": 4,
 "nbformat_minor": 5
}
